{
 "cells": [
  {
   "cell_type": "markdown",
   "metadata": {},
   "source": [
    "3. Úvod do lineární algebry"
   ]
  },
  {
   "cell_type": "code",
   "execution_count": 3,
   "metadata": {},
   "outputs": [
    {
     "name": "stdout",
     "output_type": "stream",
     "text": [
      "[ 5  1 11]\n",
      "iterace: 0 x= [[-1.5               -inf        -inf]\n",
      " [       -inf -0.66666667        -inf]\n",
      " [       -inf        -inf -4.        ]]\n",
      "iterace: 1 x= [[inf nan nan]\n",
      " [nan inf nan]\n",
      " [nan nan inf]]\n",
      "iterace: 2 x= [[nan nan nan]\n",
      " [nan nan nan]\n",
      " [nan nan nan]]\n",
      "iterace: 3 x= [[nan nan nan]\n",
      " [nan nan nan]\n",
      " [nan nan nan]]\n",
      "iterace: 4 x= [[nan nan nan]\n",
      " [nan nan nan]\n",
      " [nan nan nan]]\n",
      "iterace: 5 x= [[nan nan nan]\n",
      " [nan nan nan]\n",
      " [nan nan nan]]\n",
      "iterace: 6 x= [[nan nan nan]\n",
      " [nan nan nan]\n",
      " [nan nan nan]]\n",
      "iterace: 7 x= [[nan nan nan]\n",
      " [nan nan nan]\n",
      " [nan nan nan]]\n",
      "iterace: 8 x= [[nan nan nan]\n",
      " [nan nan nan]\n",
      " [nan nan nan]]\n",
      "iterace: 9 x= [[nan nan nan]\n",
      " [nan nan nan]\n",
      " [nan nan nan]]\n",
      "reseni:  (array([[nan, nan, nan],\n",
      "       [nan, nan, nan],\n",
      "       [nan, nan, nan]]), 0.015625)\n"
     ]
    },
    {
     "name": "stderr",
     "output_type": "stream",
     "text": [
      "C:\\Users\\Patrik\\AppData\\Roaming\\Python\\Python37\\site-packages\\ipykernel_launcher.py:11: RuntimeWarning: divide by zero encountered in true_divide\n",
      "  # This is added back by InteractiveShellApp.init_path()\n",
      "C:\\Users\\Patrik\\AppData\\Roaming\\Python\\Python37\\site-packages\\ipykernel_launcher.py:11: RuntimeWarning: invalid value encountered in matmul\n",
      "  # This is added back by InteractiveShellApp.init_path()\n"
     ]
    }
   ],
   "source": [
    "import numpy as np\n",
    "import time\n",
    "\n",
    "def jacobi(A, b, niteraci, x0): #jacobiho metoda\n",
    "    start = time.process_time()\n",
    "    x = x0\n",
    "    D = np.diag(A)\n",
    "    L = np.tril(A, k = -1)\n",
    "    U = np.triu(A, k = 1)\n",
    "    for i in range(niteraci):\n",
    "        x = (b - np.matmul((L + U),x))/D    \n",
    "        print(\"iterace:\",i, \"x=\",x)\n",
    "    konec = time.process_time()\n",
    "    return (x, round(konec-start,10))\n",
    "\n",
    "def Vygeneruj_random_matice(pocet, radky, sloupce):\n",
    "    pole_matic = []\n",
    "    for index in range(pocet):\n",
    "        matrix = np.random.randint(0,10,size=(radky,sloupce))\n",
    "        pole_matic.append(matrix)\n",
    "        radky+=1\n",
    "        sloupce+=1\n",
    "    return pole_matic\n",
    "\n",
    "\n",
    "A = [np.array([\n",
    "    [2, 1], \n",
    "    [5, 7]\n",
    "]), np.array([\n",
    "    [3, 2, 1], \n",
    "    [2, 3, 1],\n",
    "    [2, 1, 3]\n",
    "])]\n",
    "B = [np.array([11, 13]), np.array([5, 1, 11])]\n",
    "print(B[1]) \n",
    "\n",
    "A = np.array([\n",
    "    [3, 2, 1], \n",
    "    [2, 3, 1],\n",
    "    [2, 1, 3]\n",
    "])\n",
    "B = np.array([5, 1, 11])\n",
    "\n",
    "x = jacobi(np.array(A[1]), np.array(B[1]), 10,np.ones(len(A)))\n",
    "\n",
    "print(\"reseni: \", x)\n",
    "\n",
    "#statistiky = []\n",
    "#for index in range(len(A)):\n",
    "#    statistiky.append(jacobi(np.array(A[index]),np.array(B[index]), 10))\n",
    "\n",
    "#plt.plot(x, cas_k_vyreseni, marker='o', color='blue')\n",
    "#plt.title('Čas potřebný k vyřešení matice')\n",
    "#plt.xlabel('velikost matice')\n",
    "#plt.ylabel('cas (s)')"
   ]
  }
 ],
 "metadata": {
  "kernelspec": {
   "display_name": "Python 3",
   "language": "python",
   "name": "python3"
  },
  "language_info": {
   "codemirror_mode": {
    "name": "ipython",
    "version": 3
   },
   "file_extension": ".py",
   "mimetype": "text/x-python",
   "name": "python",
   "nbconvert_exporter": "python",
   "pygments_lexer": "ipython3",
   "version": "3.7.0"
  }
 },
 "nbformat": 4,
 "nbformat_minor": 2
}
