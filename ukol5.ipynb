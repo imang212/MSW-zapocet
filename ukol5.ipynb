{
 "cells": [
  {
   "cell_type": "markdown",
   "metadata": {},
   "source": [
    "5. Hledání kořenů rovnice"
   ]
  },
  {
   "cell_type": "code",
   "execution_count": 7,
   "metadata": {},
   "outputs": [
    {
     "name": "stdout",
     "output_type": "stream",
     "text": [
      "Funkce 1\n",
      "x=0.5675322824258833, cas:0.009684562683105469s\n",
      "x=0.5671432836257685, cas:0.0010347366333007812s\n",
      "Funkce 2\n",
      "x=1.8951017515189241, cas:0.0s\n",
      "x=1.8954942700829887, cas:0.0s\n",
      "Funkce 3\n",
      "x=0.5671555554039427, cas:0.0009980201721191406s\n",
      "x=0.567143290364994, cas:0s\n"
     ]
    }
   ],
   "source": [
    "import numpy as np\n",
    "import matplotlib.pyplot as plt\n",
    "import time\n",
    "\n",
    "def regula_falsi(f, a0, b0, delta=1E-3):\n",
    "    a, b = a0, b0\n",
    "    xnew = (a+b)/2\n",
    "    xold = a\n",
    "    while abs(xnew - xold) > delta:\n",
    "        xold = xnew\n",
    "        xnew = a - f(a)*(b-a)/(f(b)-f(a))\n",
    "        if f(a)*f(xnew) < 0:\n",
    "            b = xnew\n",
    "        else:\n",
    "            a = xnew\n",
    "    return xnew\n",
    "\n",
    "def newtonova_metoda(f, a0, b0, delta=1E-3):\n",
    "    a, b = a0, b0\n",
    "    def df(x, h = 1E-3):\n",
    "        return (f(x+h)-f(x-h))/(2*h)\n",
    "    xnew = (a+b)/2\n",
    "    xold = a\n",
    "    while abs(xnew - xold) > delta:\n",
    "        xold = xnew\n",
    "        xnew = xold - f(xold)/df(xold)\n",
    "    return xnew\n",
    "\n",
    "print(\"Funkce 1\")\n",
    "f = lambda x: x + np.log(x)\n",
    "time1 = time.time()\n",
    "koren = regula_falsi(f, a0=0.1, b0=4)\n",
    "time2 = time.time()\n",
    "print(f'x={koren}, cas:{time2-time1}s')\n",
    "\n",
    "time3 = time.time()\n",
    "koren2 = newtonova_metoda(f, a0=0.1, b0=4)\n",
    "time4 = time.time()\n",
    "print(f'x={koren2}, cas:{time4-time3}s')\n",
    "\n",
    "print(\"Funkce 2\")\n",
    "f = lambda x: np.sin(x) - 0.5*x\n",
    "time5 = time.time()\n",
    "koren = regula_falsi(f, a0=0.1, b0=4)\n",
    "time6 = time.time()\n",
    "print(f'x={koren}, cas:{time6-time5}s')\n",
    "\n",
    "time7 = time.time()\n",
    "koren2 = newtonova_metoda(f, a0=0.1, b0=4)\n",
    "time8 = time.time()\n",
    "print(f'x={koren2}, cas:{time8-time7}s')\n",
    "\n",
    "print(\"Funkce 3\")\n",
    "f = lambda x: x - np.exp(-x)\n",
    "time9 = time.time()\n",
    "koren = regula_falsi(f, a0=0.1, b0=4)\n",
    "time10 = time.time()\n",
    "print(f'x={koren}, cas:{time10-time9}s')\n",
    "\n",
    "time11 = time.time()\n",
    "koren2 = newtonova_metoda(f, a0=0.1, b0=4)\n",
    "time12 = time.time()\n",
    "print(f'x={koren2}, cas:{time12-time11}s')"
   ]
  }
 ],
 "metadata": {
  "kernelspec": {
   "display_name": "Python 3",
   "language": "python",
   "name": "python3"
  },
  "language_info": {
   "codemirror_mode": {
    "name": "ipython",
    "version": 3
   },
   "file_extension": ".py",
   "mimetype": "text/x-python",
   "name": "python",
   "nbconvert_exporter": "python",
   "pygments_lexer": "ipython3",
   "version": "3.7.0"
  }
 },
 "nbformat": 4,
 "nbformat_minor": 2
}
