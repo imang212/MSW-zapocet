{
 "cells": [
  {
   "cell_type": "markdown",
   "metadata": {},
   "source": [
    "8. Derivace funkce jedné proměnné "
   ]
  },
  {
   "cell_type": "code",
   "execution_count": 11,
   "metadata": {},
   "outputs": [
    {
     "name": "stdout",
     "output_type": "stream",
     "text": [
      "Přední derivace:  0.5402980985058647\n",
      "Zadní derivace:  0.540306513208133\n",
      "Centrální derivace:  0.5403023058569989\n",
      "\n",
      "Chyba centralni derivace:  1.2499921875130937e-05\n",
      "Chyba centralni derivace:  3.1249951172318546e-06\n",
      "Chyba centralni derivace:  7.812496948256253e-07\n"
     ]
    }
   ],
   "source": [
    "import numpy as np\n",
    "import matplotlib.pyplot as plt\n",
    "\n",
    "f = lambda x: np.sin(x) #funkce sin(x)\n",
    "\n",
    "def forward_derivative(f, x, h): #vzorec pro přední derivaci\n",
    "    return (f(x + h) - f(x)) / h\n",
    "\n",
    "def backward_derivative(f, x, h): #vzorec pro zadní derivaci\n",
    "    return (f(x) - f(x - h)) / h\n",
    "\n",
    "def central_derivative(f, x, h): #vzorec pro centrální derivaci\n",
    "    return (f(x + h) - f(x - h)) / (2 * h)\n",
    "\n",
    "# Derivace s adaptabilním krokem\n",
    "def adaptive_derivative(f, x, initial_h=1e-2, tolerance=1e-6):\n",
    "    h = initial_h #krok\n",
    "    error = float('inf') #chyba\n",
    "    while error > tolerance: #while funkce\n",
    "        df1 = (f(x + h) - f(x - h)) / (2 * h)  #centralni derivace\n",
    "        df2 = (f(x + h/2) - f(x - h/2)) / h  # Poloviční krok\n",
    "        error = np.abs(df2 - df1)  # Odhad chyby\n",
    "        print(\"Chyba centralni derivace: \",error) #výpis chyby\n",
    "        h /= 2  # Snižování kroku pro vyšší přesnost\n",
    "    return df1 #vrácení derivace\n",
    "\n",
    "# Nastavení hodnot\n",
    "x0 = 1 #hodnota x\n",
    "krok = 1e-5  # krok\n",
    "tolerance = 1e-6  #tolerance pro adaptabilní krok\n",
    "\n",
    "# Výpočty\n",
    "print(\"Přední derivace: \",forward_derivative(f, x0, krok))\n",
    "print(\"Zadní derivace: \",backward_derivative(f, x0, krok))\n",
    "print(\"Centrální derivace: \",central_derivative(f, x0, krok))\n",
    "print()\n",
    "x0 = np.linspace(0, 10, 1) # pro hodnoty 1 až 10\n",
    "adaptivni_derivace = np.array([adaptive_derivative(f, x, initial_h=1e-2, tolerance=tolerance) for x in x0])\n",
    "print('Výsledek centrální adaptibilní derivace:',adaptivni_derivace)\n"
   ]
  }
 ],
 "metadata": {
  "kernelspec": {
   "display_name": "Python 3",
   "language": "python",
   "name": "python3"
  },
  "language_info": {
   "codemirror_mode": {
    "name": "ipython",
    "version": 3
   },
   "file_extension": ".py",
   "mimetype": "text/x-python",
   "name": "python",
   "nbconvert_exporter": "python",
   "pygments_lexer": "ipython3",
   "version": "3.7.0"
  }
 },
 "nbformat": 4,
 "nbformat_minor": 2
}
