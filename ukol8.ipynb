{
 "cells": [
  {
   "cell_type": "markdown",
   "metadata": {},
   "source": [
    "8. Derivace funkce jedné proměnné "
   ]
  },
  {
   "cell_type": "code",
   "execution_count": 31,
   "metadata": {},
   "outputs": [
    {
     "name": "stdout",
     "output_type": "stream",
     "text": [
      "Přední derivace:  0.5398814803603269\n",
      "Zadní derivace:  0.5407229512750522\n",
      "Centrální derivace:  0.5403022158176896\n",
      "Čas:  0.0 s\n",
      "\n",
      "Chyba centralni adaptibilní derivace:  1.2499921875130937e-05\n",
      "Chyba centralni adaptibilní derivace:  3.1249951172318546e-06\n",
      "Chyba centralni adaptibilní derivace:  7.812496948256253e-07\n",
      "Výsledek centrální adaptibilní derivace: [0.99999896]\n",
      "Čas:  0.0 s\n"
     ]
    }
   ],
   "source": [
    "import numpy as np\n",
    "import time\n",
    "\n",
    "f = lambda x: np.sin(x) #funkce sin(x)\n",
    "\n",
    "def predni_derivace(f, x, h): #vzorec pro přední derivaci\n",
    "    return (f(x + h) - f(x)) / h\n",
    "\n",
    "def zadni_derivace(f, x, h): #vzorec pro zadní derivaci\n",
    "    return (f(x) - f(x - h)) / h\n",
    "\n",
    "def centralni_derivace(f, x, h): #vzorec pro centrální derivaci\n",
    "    return (f(x + h) - f(x - h)) / (2 * h)\n",
    "\n",
    "# Derivace s adaptabilním krokem\n",
    "def adaptive_derivative(f, x, initial_h=1e-2, tolerance=1e-6):\n",
    "    h = initial_h #krok\n",
    "    error = float('inf') #chyba\n",
    "    while error > tolerance: #while funkce\n",
    "        df1 = (f(x + h) - f(x - h)) / (2 * h)  #centralni derivace\n",
    "        df2 = (f(x + h/2) - f(x - h/2)) / h  # Poloviční krok\n",
    "        error = np.abs(df2 - df1)  # Odhad chyby\n",
    "        print(\"Chyba centralni adaptibilní derivace: \",error) #výpis chyby\n",
    "        h /= 2  # Snižování kroku pro vyšší přesnost\n",
    "    return df1 #vrácení derivace\n",
    "\n",
    "# Nastavení hodnot\n",
    "x0 = 1 #hodnota x\n",
    "krok = 1e-3  # krok\n",
    "tolerance = 1e-6  #tolerance pro adaptabilní krok\n",
    "\n",
    "# Výpočty\n",
    "print(\"Přední derivace: \",predni_derivace(f, x0, krok))\n",
    "print(\"Zadní derivace: \",zadni_derivace(f, x0, krok))\n",
    "start_time = time.time()\n",
    "print(\"Centrální derivace: \",centralni_derivace(f, x0, krok))\n",
    "end_time = time.time()-start_time\n",
    "print(\"Čas: \",end_time,\"s\")\n",
    "print()\n",
    "x0 = np.linspace(0, 10, 1) # pro hodnoty 1 až 10\n",
    "start_time = time.time()\n",
    "adaptivni_derivace = np.array([adaptive_derivative(f, x, initial_h=1e-2, tolerance=tolerance) for x in x0])\n",
    "end_time = time.time()-start_time\n",
    "print('Výsledek centrální adaptibilní derivace:',adaptivni_derivace)\n",
    "print(\"Čas: \",end_time,\"s\")\n"
   ]
  }
 ],
 "metadata": {
  "kernelspec": {
   "display_name": "Python 3",
   "language": "python",
   "name": "python3"
  },
  "language_info": {
   "codemirror_mode": {
    "name": "ipython",
    "version": 3
   },
   "file_extension": ".py",
   "mimetype": "text/x-python",
   "name": "python",
   "nbconvert_exporter": "python",
   "pygments_lexer": "ipython3",
   "version": "3.7.0"
  }
 },
 "nbformat": 4,
 "nbformat_minor": 2
}
