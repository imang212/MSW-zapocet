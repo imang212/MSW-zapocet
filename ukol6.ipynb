{
 "cells": [
  {
   "cell_type": "markdown",
   "metadata": {},
   "source": [
    "6. Generování náhodných čísel a testování generátorů"
   ]
  },
  {
   "cell_type": "code",
   "execution_count": 1,
   "metadata": {},
   "outputs": [
    {
     "name": "stdout",
     "output_type": "stream",
     "text": [
      "Iterace: 0 Random číslo: 4\n",
      "Iterace: 1 Random číslo: 5\n",
      "Iterace: 2 Random číslo: 4\n",
      "Iterace: 3 Random číslo: 9\n",
      "Iterace: 4 Random číslo: 1\n",
      "Iterace: 5 Random číslo: 6\n",
      "Iterace: 6 Random číslo: 8\n",
      "Iterace: 7 Random číslo: 6\n",
      "Iterace: 8 Random číslo: 4\n",
      "Iterace: 9 Random číslo: 3\n",
      "Iterace: 10 Random číslo: 4\n",
      "Iterace: 11 Random číslo: 6\n",
      "Iterace: 12 Random číslo: 6\n",
      "Iterace: 13 Random číslo: 3\n",
      "Iterace: 14 Random číslo: 2\n",
      "None\n"
     ]
    }
   ],
   "source": [
    "import time\n",
    "\n",
    "#generování náhodných čísel podle času\n",
    "def Vlastni_genrator(seminko: int,n_cisel: int) -> list:\n",
    "    for i in range(n_cisel): #for cyklus pro pro zadaný počet čísel\n",
    "        cas = time.time() #aktuální čas\n",
    "        kombinace = cas*seminko #vynásobím čas se semínkem\n",
    "        delka_cisla = len(str(kombinace))-1 #vezmu délku vygenerovaného čísla-1 místo\n",
    "        random_cislo = (str(kombinace)[delka_cisla:]) #vyberu poslední číslo z kombinace, které je v nanosekundách\n",
    "        print(\"Iterace: \"+str(i), \"Random číslo: \"+random_cislo) #vypíši random číslo\n",
    "        time.sleep(0.5) #0.5s sleep\n",
    "\n",
    "print(Vlastni_genrator(20,15))"
   ]
  }
 ],
 "metadata": {
  "kernelspec": {
   "display_name": "Python 3",
   "language": "python",
   "name": "python3"
  },
  "language_info": {
   "codemirror_mode": {
    "name": "ipython",
    "version": 3
   },
   "file_extension": ".py",
   "mimetype": "text/x-python",
   "name": "python",
   "nbconvert_exporter": "python",
   "pygments_lexer": "ipython3",
   "version": "3.7.0"
  }
 },
 "nbformat": 4,
 "nbformat_minor": 2
}
