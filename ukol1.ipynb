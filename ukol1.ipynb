{
 "cells": [
  {
   "cell_type": "code",
   "execution_count": 1,
   "metadata": {},
   "outputs": [
    {
     "name": "stdout",
     "output_type": "stream",
     "text": [
      "Čas pro skalární součin pomocí standardního Pythonu: 0.0\n",
      "Čas pro skalární součin pomocí NumPy: 0.0\n",
      "Výsledek skalárního součinu pomocí standardního Pythonu: 130\n",
      "Výsledek skalárního součinu pomocí NumPy: 130\n"
     ]
    }
   ],
   "source": [
    "import sympy\n",
    "import numpy as np\n",
    "import time\n",
    "\n",
    "# Skalární součin pomocí standardního Pythonu\n",
    "def scalar_product_python(a, b):\n",
    "    result = 0\n",
    "    for i in range(len(a)):\n",
    "        result += a[i] * b[i]\n",
    "    return result\n",
    "\n",
    "# Měření času pro skalární součin pomocí standardního Pythonu\n",
    "start_time = time.time()\n",
    "a = [1, 2, 3, 4, 5]\n",
    "b = [6, 7, 8, 9, 10]\n",
    "result_python = scalar_product_python(a, b)\n",
    "end_time = time.time()\n",
    "print(\"Čas pro skalární součin pomocí standardního Pythonu:\", end_time - start_time)\n",
    "\n",
    "# Skalární součin pomocí NumPy\n",
    "def scalar_product_numpy(a, b):\n",
    "    return np.dot(a, b)\n",
    "\n",
    "# Měření času pro skalární součin pomocí NumPy\n",
    "start_time = time.time()\n",
    "a_np = np.array(a)\n",
    "b_np = np.array(b)\n",
    "result_numpy = scalar_product_numpy(a_np, b_np)\n",
    "end_time = time.time()\n",
    "print(\"Čas pro skalární součin pomocí NumPy:\", end_time - start_time)\n",
    "\n",
    "# Porovnání výsledků\n",
    "print(\"Výsledek skalárního součinu pomocí standardního Pythonu:\", result_python)\n",
    "print(\"Výsledek skalárního součinu pomocí NumPy:\", result_numpy)\n"
   ]
  }
 ],
 "metadata": {
  "kernelspec": {
   "display_name": "Python 3",
   "language": "python",
   "name": "python3"
  },
  "language_info": {
   "codemirror_mode": {
    "name": "ipython",
    "version": 3
   },
   "file_extension": ".py",
   "mimetype": "text/x-python",
   "name": "python",
   "nbconvert_exporter": "python",
   "pygments_lexer": "ipython3",
   "version": "3.7.0"
  }
 },
 "nbformat": 4,
 "nbformat_minor": 2
}
