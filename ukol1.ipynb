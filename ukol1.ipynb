{
 "cells": [
  {
   "cell_type": "markdown",
   "metadata": {},
   "source": [
    "1. Knihovny a moduly pro matematické výpočty"
   ]
  },
  {
   "cell_type": "code",
   "execution_count": 6,
   "metadata": {},
   "outputs": [
    {
     "name": "stdout",
     "output_type": "stream",
     "text": [
      "Čas pro skalární součin pomocí standardního Pythonu:  0.0\n",
      "Čas pro skalární součin pomocí NumPy:  0.0\n",
      "Výsledek skalárního součinu pomocí standardního Pythonu:  130\n",
      "Výsledek skalárního součinu pomocí NumPy:  130\n",
      "Čas pro výpočet integrálu pomocí standardního pythonu:  0.0010039806365966797\n",
      "Výsledek integrálu:  0.45969765582371824\n",
      "Čas pro výpočet integrálu pomocí SciPy knihovny:  0.0\n",
      "Výsledek integrálu pomocí SymPy:  (0.45969769413186023, 5.103669643922839e-15)\n",
      "Čas pro výpočet derivace pomocí SciPy knihovny:  0.001994609832763672\n",
      "Výsledek derivace:  -sin(x)\n"
     ]
    }
   ],
   "source": [
    "import sympy\n",
    "import numpy as np\n",
    "import scipy.integrate as spi\n",
    "import math\n",
    "import time\n",
    "\n",
    "# Skalární součin pomocí standardního Pythonu\n",
    "def scalar_product_python(a, b):\n",
    "    result = 0\n",
    "    for i in range(len(a)):\n",
    "        result += a[i] * b[i]\n",
    "    return result\n",
    "\n",
    "# Měření času pro skalární součin pomocí standardního Pythonu\n",
    "\n",
    "a = [1, 2, 3, 4, 5]\n",
    "b = [6, 7, 8, 9, 10]\n",
    "start_time = time.time()\n",
    "result_python = scalar_product_python(a, b)\n",
    "end_time = time.time()\n",
    "print(\"Čas pro skalární součin pomocí standardního Pythonu: \", end_time - start_time)\n",
    "\n",
    "# Skalární součin pomocí NumPy\n",
    "def scalar_product_numpy(a, b):\n",
    "    return np.dot(a, b)\n",
    "\n",
    "# Měření času pro skalární součin pomocí NumPy\n",
    "\n",
    "a_np = np.array(a)\n",
    "b_np = np.array(b)\n",
    "start_time = time.time()\n",
    "result_numpy = scalar_product_numpy(a_np, b_np)\n",
    "end_time = time.time()\n",
    "print(\"Čas pro skalární součin pomocí NumPy: \", end_time - start_time)\n",
    "\n",
    "# Porovnání obou výsledků\n",
    "print(\"Výsledek skalárního součinu pomocí standardního Pythonu: \", result_python)\n",
    "print(\"Výsledek skalárního součinu pomocí NumPy: \", result_numpy)\n",
    "\n",
    "#expnenciální funkce pomocí math knihovny\n",
    "def f(x):\n",
    "    return math.sin(x)\n",
    "\n",
    "#integrace funkce pomocí standardního pythonu\n",
    "def integral(f, a, b, n):\n",
    "    h = (b - a) / n\n",
    "    s = 0.5 * (f(a) + f(b))\n",
    "    for i in range(1, n):\n",
    "        s += f(a + i * h)\n",
    "    return s * h\n",
    "\n",
    "zacatek, konec = 0, 1\n",
    "pocet = 1000 \n",
    "\n",
    "start_time = time.time()\n",
    "integral1 = integral(f, zacatek, konec, pocet)\n",
    "end_time = time.time()\n",
    "print(\"Čas pro výpočet integrálu pomocí standardního pythonu: \", end_time - start_time)\n",
    "print(\"Výsledek integrálu: \",integral1)\n",
    "#integrace pomocí SciPy knihovny\n",
    "start_time = time.time()\n",
    "integral2 = spi.quad(lambda x: math.sin(x), zacatek, konec)\n",
    "end_time = time.time()\n",
    "print(\"Čas pro výpočet integrálu pomocí SciPy knihovny: \", end_time - start_time)\n",
    "print(\"Výsledek integrálu pomocí SymPy: \",integral2)\n",
    "\n",
    "#Derivace pomocí SymPy\n",
    "x = sympy.Symbol('x')\n",
    "f = sympy.cos(x)\n",
    "\n",
    "start_time = time.time()\n",
    "derivace = sympy.diff(f,x)\n",
    "end_time = time.time()\n",
    "\n",
    "print(\"Čas pro výpočet derivace pomocí SciPy knihovny: \", end_time - start_time)\n",
    "print(\"Výsledek derivace: \",derivace)"
   ]
  }
 ],
 "metadata": {
  "kernelspec": {
   "display_name": "Python 3",
   "language": "python",
   "name": "python3"
  },
  "language_info": {
   "codemirror_mode": {
    "name": "ipython",
    "version": 3
   },
   "file_extension": ".py",
   "mimetype": "text/x-python",
   "name": "python",
   "nbconvert_exporter": "python",
   "pygments_lexer": "ipython3",
   "version": "3.7.0"
  }
 },
 "nbformat": 4,
 "nbformat_minor": 2
}
